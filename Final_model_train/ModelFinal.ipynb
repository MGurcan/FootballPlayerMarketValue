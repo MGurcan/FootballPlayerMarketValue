{
 "cells": [
  {
   "cell_type": "code",
   "execution_count": 1,
   "metadata": {},
   "outputs": [],
   "source": [
    "import pandas as pd\n",
    "import numpy as np\n",
    "\n",
    "from sklearn.ensemble import GradientBoostingRegressor, RandomForestRegressor\n",
    "from sklearn.linear_model import LinearRegression, Ridge, Lasso, ElasticNet\n",
    "from sklearn.svm import SVR\n",
    "from sklearn.neighbors import KNeighborsRegressor\n",
    "from sklearn.tree import DecisionTreeRegressor\n",
    "from sklearn.metrics import r2_score\n",
    "from sklearn.model_selection import train_test_split\n",
    "\n",
    "import pickle"
   ]
  },
  {
   "cell_type": "code",
   "execution_count": 2,
   "metadata": {},
   "outputs": [],
   "source": [
    "path = 'merged_players_df_final.csv'\n",
    "df = pd.read_csv(path)"
   ]
  },
  {
   "cell_type": "code",
   "execution_count": 3,
   "metadata": {},
   "outputs": [
    {
     "name": "stdout",
     "output_type": "stream",
     "text": [
      "correlation bound:  0.0\n",
      "Accuracy: 0.901611715440991\n",
      "['games_2022', 'minutes_played_2022', 'goals_2022', 'assists_2022', 'goals_against_2022', 'goals_for_2022', 'clean_sheet_2022', 'last_season', 'squad_size', 'highest_market_value_in_eur', 'yellow_cards_2022', 'red_cards_2022', 'current_club_domestic_competition_id_ES1', 'current_club_domestic_competition_id_FR1', 'current_club_domestic_competition_id_GB1', 'current_club_domestic_competition_id_IT1', 'current_club_domestic_competition_id_L1', 'position_Attack', 'position_Midfield', 'sub_position_Attacking Midfield', 'sub_position_Central Midfield', 'sub_position_Centre-Forward', 'sub_position_Defensive Midfield', 'sub_position_Left Winger', 'sub_position_Right Winger', 'sub_position_Second Striker', 'foot_left', 'foot_right', 'height_in_cm', 'age', 'current_club_domestic_competition_id_BE1', 'current_club_domestic_competition_id_DK1', 'current_club_domestic_competition_id_GR1', 'current_club_domestic_competition_id_NL1', 'current_club_domestic_competition_id_PO1', 'current_club_domestic_competition_id_RU1', 'current_club_domestic_competition_id_SC1', 'current_club_domestic_competition_id_TR1', 'current_club_domestic_competition_id_UKR1', 'position_Defender', 'position_Goalkeeper', 'position_Missing', 'sub_position_Centre-Back', 'sub_position_Goalkeeper', 'sub_position_Left Midfield', 'sub_position_Left-Back', 'sub_position_Right Midfield', 'sub_position_Right-Back', 'foot_both']\n",
      "correlation bound:  0.1\n",
      "Accuracy: 0.7902370536576423\n",
      "['games_2022', 'minutes_played_2022', 'goals_2022', 'assists_2022', 'goals_against_2022', 'goals_for_2022', 'clean_sheet_2022', 'last_season', 'highest_market_value_in_eur', 'yellow_cards_2022', 'current_club_domestic_competition_id_GB1']\n",
      "correlation bound:  0.2\n",
      "Accuracy: 0.7902370536576423\n",
      "['games_2022', 'minutes_played_2022', 'goals_2022', 'assists_2022', 'goals_against_2022', 'goals_for_2022', 'clean_sheet_2022', 'last_season', 'highest_market_value_in_eur', 'yellow_cards_2022', 'current_club_domestic_competition_id_GB1']\n",
      "correlation bound:  0.3\n",
      "Accuracy: 0.7683189826262018\n",
      "['games_2022', 'minutes_played_2022', 'goals_2022', 'assists_2022', 'goals_against_2022', 'goals_for_2022', 'clean_sheet_2022', 'highest_market_value_in_eur', 'yellow_cards_2022']\n",
      "correlation bound:  0.4\n",
      "Accuracy: 0.766884588205956\n",
      "['games_2022', 'minutes_played_2022', 'goals_2022', 'assists_2022', 'goals_for_2022', 'clean_sheet_2022', 'highest_market_value_in_eur']\n",
      "correlation bound:  0.5\n",
      "Accuracy: 0.752208502722377\n",
      "['goals_for_2022', 'highest_market_value_in_eur']\n",
      "correlation bound:  0.6\n",
      "Accuracy: 0.6911800987001924\n",
      "['highest_market_value_in_eur']\n",
      "correlation bound:  0.7\n",
      "Accuracy: 0.6911800987001924\n",
      "['highest_market_value_in_eur']\n",
      "correlation bound:  0.8\n",
      "Accuracy: 0.6911800987001924\n",
      "['highest_market_value_in_eur']\n"
     ]
    }
   ],
   "source": [
    "# Checks the correlation of attributes on target attribute\n",
    "\n",
    "for i in range(9):\n",
    "    correlation_bound = i / 10\n",
    "    \n",
    "    big_columns = df.corr(numeric_only=True)['market_value_in_eur'][df.corr(numeric_only=True)['market_value_in_eur'] > correlation_bound]\n",
    "    small_columns = df.corr(numeric_only=True)['market_value_in_eur'][df.corr(numeric_only=True)['market_value_in_eur'] < -correlation_bound]\n",
    "    effective_columns = pd.concat([big_columns, small_columns])\n",
    "    \n",
    "    effective_columns = effective_columns.index.tolist()\n",
    "    \n",
    "    element_to_remove = 'market_value_in_eur'\n",
    "    effective_columns = [elem for elem in effective_columns if elem != element_to_remove]\n",
    "    element_to_remove = 'player_id'\n",
    "    effective_columns = [elem for elem in effective_columns if elem != element_to_remove]\n",
    "\n",
    "    merged_players_df1 = df.copy()\n",
    "    y = merged_players_df1['market_value_in_eur']\n",
    "    X = merged_players_df1[effective_columns].fillna(-1000)\n",
    "    \n",
    "    #split test and training data\n",
    "    X_train, X_test, y_train, y_test = train_test_split(X, y, test_size=0.3,random_state=31)\n",
    "    \n",
    "    #model data\n",
    "    clf = GradientBoostingRegressor(random_state=0)\n",
    "    clf.fit(X_train, y_train)\n",
    "    \n",
    "    #assess accurancy of model\n",
    "    print(\"correlation bound: \", correlation_bound)\n",
    "    print(\"Accuracy: {}\".format(clf.score(X_test, y_test)))\n",
    "    print(effective_columns)\n"
   ]
  },
  {
   "cell_type": "code",
   "execution_count": 4,
   "metadata": {},
   "outputs": [],
   "source": [
    "# Different type of models\n",
    "\n",
    "#model_1_Accuracy: 0.901611715440991\n",
    "model_1_columns = ['games_2022', 'minutes_played_2022', 'goals_2022', 'assists_2022', 'goals_against_2022', 'goals_for_2022', 'clean_sheet_2022', 'last_season', 'squad_size', 'highest_market_value_in_eur', 'yellow_cards_2022', 'red_cards_2022', 'current_club_domestic_competition_id_ES1', 'current_club_domestic_competition_id_FR1', 'current_club_domestic_competition_id_GB1', 'current_club_domestic_competition_id_IT1', 'current_club_domestic_competition_id_L1', 'position_Attack', 'position_Midfield', 'sub_position_Attacking Midfield', 'sub_position_Central Midfield', 'sub_position_Centre-Forward', 'sub_position_Defensive Midfield', 'sub_position_Left Winger', 'sub_position_Right Winger', 'sub_position_Second Striker', 'foot_left', 'foot_right', 'height_in_cm', 'age', 'current_club_domestic_competition_id_BE1', 'current_club_domestic_competition_id_DK1', 'current_club_domestic_competition_id_GR1', 'current_club_domestic_competition_id_NL1', 'current_club_domestic_competition_id_PO1', 'current_club_domestic_competition_id_RU1', 'current_club_domestic_competition_id_SC1', 'current_club_domestic_competition_id_TR1', 'current_club_domestic_competition_id_UKR1', 'position_Defender', 'position_Goalkeeper', 'position_Missing', 'sub_position_Centre-Back', 'sub_position_Goalkeeper', 'sub_position_Left Midfield', 'sub_position_Left-Back', 'sub_position_Right Midfield', 'sub_position_Right-Back', 'foot_both']\n",
    "\n",
    "#model_2_Accuracy: 0.7902370536576423\n",
    "model_2_columns = ['games_2022', 'minutes_played_2022', 'goals_2022', 'assists_2022', 'goals_against_2022', 'goals_for_2022', 'clean_sheet_2022', 'last_season', 'highest_market_value_in_eur', 'yellow_cards_2022', 'current_club_domestic_competition_id_GB1']\n"
   ]
  },
  {
   "cell_type": "code",
   "execution_count": 6,
   "metadata": {},
   "outputs": [
    {
     "name": "stdout",
     "output_type": "stream",
     "text": [
      "Gradient Boosting Accuracy: 0.9012682781957022\n",
      "Random Forest Accuracy: 0.9058636864564906\n",
      "Linear Regression Accuracy: 0.7437248517828065\n",
      "Ridge Regression Accuracy: 0.743730553396285\n"
     ]
    },
    {
     "name": "stderr",
     "output_type": "stream",
     "text": [
      "c:\\Users\\mehme\\anaconda3\\envs\\ml_tutorial\\Lib\\site-packages\\sklearn\\linear_model\\_ridge.py:216: LinAlgWarning: Ill-conditioned matrix (rcond=4.14257e-19): result may not be accurate.\n",
      "  return linalg.solve(A, Xy, assume_a=\"pos\", overwrite_a=True).T\n",
      "c:\\Users\\mehme\\anaconda3\\envs\\ml_tutorial\\Lib\\site-packages\\sklearn\\linear_model\\_coordinate_descent.py:631: ConvergenceWarning: Objective did not converge. You might want to increase the number of iterations, check the scale of the features or consider increasing regularisation. Duality gap: 8.020e+16, tolerance: 6.467e+13\n",
      "  model = cd_fast.enet_coordinate_descent(\n"
     ]
    },
    {
     "name": "stdout",
     "output_type": "stream",
     "text": [
      "Lasso Regression Accuracy: 0.7437250373754671\n",
      "ElasticNet Regression Accuracy: 0.7419419440397872\n",
      "K-Nearest Neighbors Accuracy: 0.7365986295439977\n",
      "Decision Tree Accuracy: 0.8073655781118528\n",
      "Accuracy: 0.9058636864564906\n",
      "['games_2022', 'minutes_played_2022', 'goals_2022', 'assists_2022', 'goals_against_2022', 'goals_for_2022', 'clean_sheet_2022', 'last_season', 'squad_size', 'highest_market_value_in_eur', 'yellow_cards_2022', 'red_cards_2022', 'current_club_domestic_competition_id_ES1', 'current_club_domestic_competition_id_FR1', 'current_club_domestic_competition_id_GB1', 'current_club_domestic_competition_id_IT1', 'current_club_domestic_competition_id_L1', 'position_Attack', 'position_Midfield', 'sub_position_Attacking Midfield', 'sub_position_Central Midfield', 'sub_position_Centre-Forward', 'sub_position_Defensive Midfield', 'sub_position_Left Winger', 'sub_position_Right Winger', 'sub_position_Second Striker', 'foot_left', 'foot_right', 'height_in_cm', 'age', 'current_club_domestic_competition_id_BE1', 'current_club_domestic_competition_id_DK1', 'current_club_domestic_competition_id_GR1', 'current_club_domestic_competition_id_NL1', 'current_club_domestic_competition_id_PO1', 'current_club_domestic_competition_id_RU1', 'current_club_domestic_competition_id_SC1', 'current_club_domestic_competition_id_TR1', 'current_club_domestic_competition_id_UKR1', 'position_Defender', 'position_Goalkeeper', 'position_Missing', 'sub_position_Centre-Back', 'sub_position_Goalkeeper', 'sub_position_Left Midfield', 'sub_position_Left-Back', 'sub_position_Right Midfield', 'sub_position_Right-Back', 'foot_both']\n"
     ]
    }
   ],
   "source": [
    "#MODEL 1 TRAIN\n",
    "merged_players_df1_fillnan = merged_players_df1.copy()\n",
    "merged_players_df1_fillnan = merged_players_df1_fillnan.fillna(merged_players_df1_fillnan.median(numeric_only=True))\n",
    "\n",
    "y = merged_players_df1_fillnan['market_value_in_eur']\n",
    "X = merged_players_df1_fillnan[model_1_columns]\n",
    "\n",
    "models = [\n",
    "    (\"Gradient Boosting\", GradientBoostingRegressor(random_state=0)),\n",
    "    (\"Random Forest\", RandomForestRegressor(random_state=0)),\n",
    "    (\"Linear Regression\", LinearRegression()),\n",
    "    (\"Ridge Regression\", Ridge()),\n",
    "    (\"Lasso Regression\", Lasso()),\n",
    "    (\"ElasticNet Regression\", ElasticNet()),\n",
    "    (\"K-Nearest Neighbors\", KNeighborsRegressor()),\n",
    "    (\"Decision Tree\", DecisionTreeRegressor(random_state=0))\n",
    "]\n",
    "\n",
    "X_train, X_test, y_train, y_test = train_test_split(X, y, test_size=0.3,random_state=31)\n",
    "\n",
    "for model_name, model in models:\n",
    "    model.fit(X_train, y_train)\n",
    "    accuracy = model.score(X_test, y_test)\n",
    "    print(\"{} Accuracy: {}\".format(model_name, accuracy))\n",
    "\n",
    "\n",
    "model_1 = RandomForestRegressor(random_state=0)\n",
    "model_1.fit(X_train, y_train)\n",
    "\n",
    "print(\"Accuracy: {}\".format(model_1.score(X_test, y_test)))\n",
    "print(model_1_columns)"
   ]
  },
  {
   "cell_type": "code",
   "execution_count": 7,
   "metadata": {},
   "outputs": [],
   "source": [
    "y = merged_players_df1_fillnan['market_value_in_eur']\n",
    "X = merged_players_df1_fillnan[model_1_columns]\n",
    "X_train, X_test, y_train, y_test = train_test_split(X, y, test_size=0.3,random_state=31)\n",
    "\n",
    "# Export Model\n",
    "model_1.fit(X_train, y_train)\n",
    "\n",
    "with open('model_complicated.pkl', 'wb') as file:\n",
    "    pickle.dump(model_1, file)"
   ]
  },
  {
   "cell_type": "code",
   "execution_count": 9,
   "metadata": {},
   "outputs": [
    {
     "name": "stdout",
     "output_type": "stream",
     "text": [
      "Gradient Boosting Accuracy: 0.7902370536576423\n",
      "Random Forest Accuracy: 0.7800739866279498\n",
      "Linear Regression Accuracy: 0.715557898961269\n",
      "Ridge Regression Accuracy: 0.7155581707629728\n",
      "Lasso Regression Accuracy: 0.7155579168016015\n",
      "ElasticNet Regression Accuracy: 0.7126957699395704\n",
      "K-Nearest Neighbors Accuracy: 0.731291721215008\n",
      "Decision Tree Accuracy: 0.6459253797930414\n",
      "Accuracy: 0.7902370536576423\n",
      "['games_2022', 'minutes_played_2022', 'goals_2022', 'assists_2022', 'goals_against_2022', 'goals_for_2022', 'clean_sheet_2022', 'last_season', 'highest_market_value_in_eur', 'yellow_cards_2022', 'current_club_domestic_competition_id_GB1']\n"
     ]
    }
   ],
   "source": [
    "#MODEL 2 TRAIN\n",
    "merged_players_df1_fillnan = merged_players_df1.copy()\n",
    "merged_players_df1_fillnan = merged_players_df1_fillnan.fillna(merged_players_df1_fillnan.median(numeric_only=True))\n",
    "\n",
    "y = merged_players_df1_fillnan['market_value_in_eur']\n",
    "X = merged_players_df1_fillnan[model_2_columns]\n",
    "\n",
    "models = [\n",
    "    (\"Gradient Boosting\", GradientBoostingRegressor(random_state=0)),\n",
    "    (\"Random Forest\", RandomForestRegressor(random_state=0)),\n",
    "    (\"Linear Regression\", LinearRegression()),\n",
    "    (\"Ridge Regression\", Ridge()),\n",
    "    (\"Lasso Regression\", Lasso()),\n",
    "    (\"ElasticNet Regression\", ElasticNet()),\n",
    "    (\"K-Nearest Neighbors\", KNeighborsRegressor()),\n",
    "    (\"Decision Tree\", DecisionTreeRegressor(random_state=0))\n",
    "]\n",
    "\n",
    "X_train, X_test, y_train, y_test = train_test_split(X, y, test_size=0.3,random_state=31)\n",
    "\n",
    "for model_name, model in models:\n",
    "    model.fit(X_train, y_train)\n",
    "    accuracy = model.score(X_test, y_test)\n",
    "    print(\"{} Accuracy: {}\".format(model_name, accuracy))\n",
    "\n",
    "\n",
    "model_2 = GradientBoostingRegressor(random_state=0)\n",
    "model_2.fit(X_train, y_train)\n",
    "\n",
    "print(\"Accuracy: {}\".format(model_2.score(X_test, y_test)))\n",
    "print(model_2_columns)"
   ]
  },
  {
   "cell_type": "code",
   "execution_count": 10,
   "metadata": {},
   "outputs": [],
   "source": [
    "y = merged_players_df1_fillnan['market_value_in_eur']\n",
    "X = merged_players_df1_fillnan[model_2_columns]\n",
    "X_train, X_test, y_train, y_test = train_test_split(X, y, test_size=0.3,random_state=31)\n",
    "\n",
    "# Export Model\n",
    "model_2.fit(X_train, y_train)\n",
    "\n",
    "with open('model_vanilla.pkl', 'wb') as file:\n",
    "    pickle.dump(model_2, file)"
   ]
  },
  {
   "cell_type": "code",
   "execution_count": null,
   "metadata": {},
   "outputs": [],
   "source": []
  }
 ],
 "metadata": {
  "kernelspec": {
   "display_name": "ml_tutorial",
   "language": "python",
   "name": "python3"
  },
  "language_info": {
   "codemirror_mode": {
    "name": "ipython",
    "version": 3
   },
   "file_extension": ".py",
   "mimetype": "text/x-python",
   "name": "python",
   "nbconvert_exporter": "python",
   "pygments_lexer": "ipython3",
   "version": "3.11.3"
  },
  "orig_nbformat": 4
 },
 "nbformat": 4,
 "nbformat_minor": 2
}
